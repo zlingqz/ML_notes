{
 "cells": [
  {
   "cell_type": "markdown",
   "metadata": {},
   "source": [
    "# 期望最大算法"
   ]
  },
  {
   "cell_type": "markdown",
   "metadata": {
    "collapsed": true
   },
   "source": [
    "不完全数据：观测随机变量$Y$。  \n",
    "完全数据：观测随机变量$Y$和隐随机变量$Z$。"
   ]
  },
  {
   "cell_type": "code",
   "execution_count": null,
   "metadata": {},
   "outputs": [],
   "source": [
    "Y 为O ， Z为I"
   ]
  },
  {
   "cell_type": "markdown",
   "metadata": {},
   "source": [
    "含有隐变量$Z$的概率模型，目标是极大化观测变量$Y$关于参数$\\theta$的对数似然函数，即 $$\\max_\\theta L\\left(\\theta\\right)$$\n",
    "其中，\\begin{align*} L \\left( \\theta \\right) & = \\log P \\left( Y | \\theta \\right) \\\\ & = \\log \\sum_{Z} P \\left( Y,Z | \\theta \\right) \\\\ & = \\log \\left( \\sum_{Z} P \\left( Y|Z,\\theta \\right) P \\left( Z| \\theta \\right) \\right)\\end{align*} "
   ]
  },
  {
   "cell_type": "markdown",
   "metadata": {},
   "source": [
    "对数似然函数$L \\left( \\theta \\right)$与第$i$次迭代后的对数似然函数$L \\left( \\theta^{\\left( i \\right)} \\right)$的差 \\begin{align*}  L \\left( \\theta \\right) - L \\left( \\theta^{\\left( i \\right)} \\right) & ＝ \\log \\left( \\sum_{Z}  P \\left( Y|Z,\\theta \\right) P \\left( Z| \\theta \\right) \\right) - \\log P \\left( Y| \\theta^{ \\left( i \\right)}  \\right) \\\\ & = \\log \\left( \\sum_{Z} P \\left( Z | Y , \\theta^{\\left( i \\right)} \\right) \\dfrac { P \\left( Y|Z,\\theta \\right) P \\left( Z| \\theta \\right)} {P \\left( Z | Y , \\theta^{\\left( i \\right)} \\right)} \\right) - \\log P \\left( Y| \\theta^{ \\left( i \\right)}  \\right)\\\\ &\\geq \\sum_{Z} P \\left( Z | Y , \\theta^{\\left( i \\right)} \\right) \\log \\dfrac {P \\left( Y | Z, \\theta \\right) P \\left(Z|\\theta\\right)}{P \\left( Z | Y , \\theta^{\\left( i \\right)} \\right)} - \\log P \\left( Y| \\theta^{ \\left( i \\right)} \\right) \\\\ & = \\sum_{Z} P \\left( Z | Y , \\theta^{\\left( i \\right)} \\right) \\log \\dfrac {P \\left( Y | Z, \\theta \\right) P \\left(Z|\\theta\\right)} {P \\left( Z | Y , \\theta^{\\left( i \\right)} \\right) P \\left(Y|\\theta^{\\left( i \\right)} \\right)}\\end{align*} "
   ]
  },
  {
   "cell_type": "markdown",
   "metadata": {},
   "source": [
    "Jensen不等式：\n",
    "$$\\log\\sum_j\\lambda_j y_j \\geq\\sum_j\\lambda_j\\log y_j$$"
   ]
  },
  {
   "cell_type": "markdown",
   "metadata": {},
   "source": [
    "令\\begin{align*} \\\\& B \\left( \\theta , \\theta^{\\left ( i \\right)} \\right) =  L \\left( \\theta^{\\left ( i \\right)} \\right) + \\sum_{Z} P \\left( Z | Y , \\theta^{\\left( i \\right)} \\right) \\log \\dfrac {P \\left( Y | Z, \\theta \\right) P \\left(Z|\\theta\\right)} {P \\left( Z | Y , \\theta^{\\left( i \\right)} \\right) P \\left(Y|\\theta^{\\left( i \\right)} \\right)} \\end{align*}    \n",
    "则  \\begin{align*} & L \\left( \\theta \\right) \\geq B \\left( \\theta, \\theta^{\\left( i \\right)} \\right) \\end{align*}  \n",
    "即函数$B \\left( \\theta, \\theta^{\\left( i \\right)} \\right)$ 是$L \\left( \\theta \\right)$ 的一个下界。  \n",
    "选择$\\theta^{\\left( i+1 \\right)}$使$B \\left( \\theta, \\theta^{\\left( i \\right)} \\right) $达到极大，即 \\begin{align*}  \\theta^{\\left( i+1 \\right)}&＝ \\mathop{\\arg \\max}_\\theta B \\left( \\theta, \\theta^{\\left( i \\right)} \\right)  \\\\ & = \\mathop{\\arg \\max}_\\theta \\left( L \\left( \\theta^{\\left ( i \\right)} \\right) + \\sum_{Z} P \\left( Z | Y , \\theta^{\\left( i \\right)} \\right) \\log \\dfrac {P \\left( Y | Z, \\theta \\right) P \\left(Z|\\theta\\right)} {P \\left( Z | Y , \\theta^{\\left( i \\right)} \\right) P \\left(Y|\\theta^{\\left( i \\right)} \\right)} \\right) \\\\ & = \\mathop{\\arg \\max}_\\theta \\left( \\sum_{Z} P \\left( Z | Y, \\theta^{\\left( i \\right)} \\right)  \\log \\left( P \\left( Y | Z, \\theta \\right)  \\right) P \\left( Z | \\theta \\right) \\right)  \\\\ & = \\mathop{\\arg \\max}_\\theta \\left( \\sum_{Z} P \\left( Z | Y, \\theta^{\\left( i \\right)} \\right)  \\log P \\left(  Y, Z | \\theta\\right)  \\right) \\end{align*}"
   ]
  },
  {
   "cell_type": "markdown",
   "metadata": {},
   "source": [
    "EM算法：  \n",
    "输入：观测随机变量数据$Y$，隐随机变量数据$Z$，联合分布$P\\left(Y,Z|\\theta\\right) $，条件分布$P\\left(Y｜Z，\\theta\\right) $；  \n",
    "输出：模型参数$\\theta$  \n",
    "1. 初值$\\theta^{\\left(0\\right)}$   \n",
    "2. $E$步：\\begin{align*} & Q\\left(\\theta,\\theta^\\left(i\\right)\\right)=E_{Z}\\left[\\log P\\left(Y,Z|\\theta\\right)|Y,\\theta^{\\left(i\\right)}\\right] \\\\ & = \\sum_{Z} \\log P\\left(Y,Z|\\theta \\right) \\cdot P\\left(Z|Y, \\theta^\\left(i\\right)\\right)\\end{align*}  \n",
    "3. $M$步：\\begin{align*} & \\theta^{\\left( i+1 \\right)} = \\mathop{\\arg \\max}_\\theta Q\\left(\\theta, \\theta^\\left( i \\right) \\right)\\end{align*}  \n",
    "4. 重复2. 3.，直到收敛。"
   ]
  },
  {
   "cell_type": "markdown",
   "metadata": {},
   "source": [
    "$Q$函数：完全数据的对数似然函数$\\log P \\left( Y , Z | \\theta \\right)$关于在给定观测数据$Y$和当前参数$\\theta_{\\left( i \\right)}$下对未观测数据$Z$的条件概率分布$P \\left( Z | Y, \\theta_{\\left( i \\right)} \\right)$的期望  \n",
    "\\begin{align*} & Q \\left( \\theta, \\theta_{\\left( i \\right)} \\right) = E_{Z} \\left[ \\log P \\left( Y, Z | \\theta \\right)  | Y , \\theta_{\\left( i \\right)}  \\right] \\end{align*} "
   ]
  }
 ],
 "metadata": {
  "kernelspec": {
   "display_name": "Python 3",
   "language": "python",
   "name": "python3"
  },
  "language_info": {
   "codemirror_mode": {
    "name": "ipython",
    "version": 3
   },
   "file_extension": ".py",
   "mimetype": "text/x-python",
   "name": "python",
   "nbconvert_exporter": "python",
   "pygments_lexer": "ipython3",
   "version": "3.7.6"
  },
  "toc": {
   "base_numbering": 1,
   "nav_menu": {},
   "number_sections": true,
   "sideBar": true,
   "skip_h1_title": true,
   "title_cell": "Table of Contents",
   "title_sidebar": "Contents",
   "toc_cell": false,
   "toc_position": {},
   "toc_section_display": true,
   "toc_window_display": false
  }
 },
 "nbformat": 4,
 "nbformat_minor": 1
}
