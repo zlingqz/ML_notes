{
 "cells": [
  {
   "cell_type": "markdown",
   "metadata": {},
   "source": [
    "***\n",
    "\n",
    "## MachineLearning 第三课实训参考答案\n",
    "\n",
    "\n",
    "***"
   ]
  },
  {
   "cell_type": "markdown",
   "metadata": {},
   "source": [
    "### 简答题"
   ]
  },
  {
   "cell_type": "markdown",
   "metadata": {},
   "source": [
    "#### 1.列出数据集的几何间隔的公式，并说明其含义及在SVM中的作用？"
   ]
  },
  {
   "cell_type": "markdown",
   "metadata": {},
   "source": [
    "超平面$\\left( \\mathbf{w}, b \\right)$关于样本点$\\left( \\mathbf{x}_{i}, y_{i} \\right)$的几何间隔为\n",
    " \\begin{align*} \\\\& \\gamma_{i} = y_{i} \\left( \\dfrac{\\mathbf{w}}{\\| \\mathbf{w} \\|} \\cdot \\mathbf{x}_{i} + \\dfrac{b}{\\| \\mathbf{w} \\|} \\right) \\end{align*}     \n",
    "超平面$\\left( \\mathbf{w}, b \\right)$关于训练集$T$的几何间隔\n",
    "\\begin{align*} \\\\& \\gamma = \\min_{i = 1, 2, \\cdots, N} \\gamma_{i} \\end{align*}   \n",
    "即超平面$\\left( \\mathbf{w}, b \\right)$关于训练集$T$中所有样本点$\\left( \\mathbf{x}_{i}, y_{i} \\right)$的几何间隔的最小值。   \n",
    "作为最大间隔分离超平面的带约束最优化问题。"
   ]
  },
  {
   "cell_type": "markdown",
   "metadata": {},
   "source": [
    "#### 2.请说明间隔边界与支持向量，及间隔的计算？"
   ]
  },
  {
   "cell_type": "markdown",
   "metadata": {},
   "source": [
    "（硬间隔）支持向量：训练数据集的样本点中与分离超平面距离最近的样本点的实例，即使约束条件等号成立的样本点\n",
    "\\begin{align*} \\\\ & y_{i} \\left( \\mathbf{w} \\cdot \\mathbf{x}_{i} + b \\right) -1 = 0 \\end{align*}    \n",
    "对$y_{i} = +1$的正例点，支持向量在超平面  \n",
    "\\begin{align*} \\\\ & H_{1}:\\mathbf{w} \\cdot \\mathbf{x} + b = 1  \\end{align*}  \n",
    "对$y_{i} = -1$的正例点，支持向量在超平面  \n",
    "\n",
    "\\begin{align*} \\\\ & H_{1}:\\mathbf{w} \\cdot \\mathbf{x} + b = -1  \\end{align*}     \n",
    "$H_{1}$和$H_{2}$称为间隔边界。  \n",
    "$H_{1}$和$H_{2}$之间的距离称为间隔，且$|H_{1}H_{2}| = \\dfrac{1}{\\| \\mathbf{w} \\|} + \\dfrac{1}{\\| \\mathbf{w} \\|} = \\dfrac{2}{\\| \\mathbf{w} \\|}$。"
   ]
  },
  {
   "cell_type": "markdown",
   "metadata": {},
   "source": [
    "#### 3.列出拉格朗日乘子法原始优化问题公式，并解释其意义？"
   ]
  },
  {
   "cell_type": "markdown",
   "metadata": {},
   "source": [
    "假设$f \\left( \\mathbf{x} \\right), c_{i} \\left( \\mathbf{x} \\right), h_{j} \\left( \\mathbf{x} \\right)$是定义在$\\mathbb{R}^{n}$上的连续可微函数。  \n",
    "称约束最优化问题\n",
    "\\begin{align*} \\\\&  \\min_{\\mathbf{x} \\in \\mathbb{R}^{n}} \\quad f \\left( \\mathbf{x} \\right) \n",
    "\\\\ & s.t. \\quad c_{i} \\left( \\mathbf{x} \\right) \\leq 0, \\quad i = 1,2, \\cdots, k\n",
    "\\\\ & \\quad \\quad h_{j} \\left( \\mathbf{x} \\right) = 0, \\quad j=1,2, \\cdots, l\\end{align*}   \n",
    "为原始最优化问题或原始问题。  \n",
    "在分别满足不等式条件$c_{i} \\left( \\mathbf{x} \\right) \\leq 0, \\quad i = 1,2, \\cdots, k$和等式条件$h_{j} \\left( \\mathbf{x} \\right) = 0, \\quad j=1,2, \\cdots, l$时，求目标函数$f \\left( \\mathbf{x} \\right)$的极小值。"
   ]
  },
  {
   "cell_type": "markdown",
   "metadata": {},
   "source": [
    "#### 4.列出软间隔支持向量机的二次优化问题，并解释其意义？"
   ]
  },
  {
   "cell_type": "markdown",
   "metadata": {},
   "source": [
    "线性支持向量机（软间隔支持向量机）：给定线性不可分训练数据集，通过求解凸二次规划问题  \n",
    "\\begin{align*}  \\\\ & \\min_{\\mathbf{w},b,\\xi} \\quad \\dfrac{1}{2} \\| \\mathbf{w} \\|^{2} + C \\sum_{i=1}^{N} \\xi_{i}\n",
    "\\\\ & s.t. \\quad y_{i} \\left( \\mathbf{w} \\cdot \\mathbf{x}_{i} + b \\right) \\geq 1 - \\xi_{i}\n",
    "\\\\ & \\xi_{i} \\geq 0, \\quad i=1,2, \\cdots, N \\end{align*}  \n",
    "分别在不等式$y_{i} \\left( \\mathbf{w} \\cdot \\mathbf{x}_{i} + b \\right) \\geq 1 - \\xi_{i}$和$\\xi_{i} \\geq 0$条件下，求解函数$\\dfrac{1}{2} \\| \\mathbf{w} \\|^{2} + C \\sum_{i=1}^{N} \\xi_{i}$的最小值。"
   ]
  },
  {
   "cell_type": "markdown",
   "metadata": {},
   "source": [
    "#### 5.在软间隔支持向量机中，请讨论不同的$\\xi_i$取值对应的样本点在分类空间中的情况？"
   ]
  },
  {
   "cell_type": "markdown",
   "metadata": {},
   "source": [
    "实例$x_{i}$的几何间隔\n",
    "\\begin{align*} \\\\& \\gamma_{i} = \\dfrac{y_{i} \\left( w \\cdot x_{i} + b \\right)}{ \\| w \\|} = \\dfrac{| 1 - \\xi_{i} |}{\\| w \\|} \\end{align*}    \n",
    "且$\\dfrac{1}{2} | H_{1}H_{2} | = \\dfrac{1}{\\| w \\|}$  \n",
    "则实例$x_{i}$到间隔边界的距离\n",
    "\\begin{align*} \\dfrac{\\xi_{i}}{\\| w \\|}\\end{align*}  \n",
    "\\begin{align*} \\xi_{i} \\geq 0 \\Leftrightarrow \\left\\{\n",
    "\\begin{aligned} \n",
    "\\ &  \\xi_{i}=0, x_{i}在间隔边界上;\n",
    "\\\\ & 0 < \\xi_{i} < 1, x_{i}在间隔边界与分离超平面之间;\n",
    "\\\\ & \\xi_{i}=1, x_{i}在分离超平面上;\n",
    "\\\\ & \\xi_{i}>1, x_{i}在分离超平面误分类一侧;\n",
    "\\end{aligned}\n",
    "\\right.\\end{align*} "
   ]
  },
  {
   "cell_type": "markdown",
   "metadata": {},
   "source": [
    "#### 6.在非线性支持向量集中，请分别列出映射函数和核函数，并说明区别和联系？"
   ]
  },
  {
   "cell_type": "markdown",
   "metadata": {},
   "source": [
    "核函数  \n",
    "设$\\mathcal{X}$是输入空间（欧氏空间$\\mathbb{R}^{n}$的子集或离散集合），$\\mathcal{H}$是特征空间（希尔伯特空间），如果存在一个从$\\mathcal{X}$到$\\mathcal{H}$的映射\n",
    "\\begin{align*} \\\\& \\phi \\left( \\mathbf{x} \\right) : \\mathcal{X} \\to \\mathcal{H}   \\end{align*}  \n",
    "使得对所有$\\mathbf{x},\\mathbf{z} \\in \\mathcal{X}$，函数$K \\left(\\mathbf{x}, \\mathbf{z} \\right)$满足条件  \n",
    "\\begin{align*} \\\\ &  K \\left(\\mathbf{x}, \\mathbf{z} \\right) = \\phi \\left( \\mathbf{x} \\right) \\cdot \\phi \\left( \\mathbf{z} \\right)  \\end{align*}  \n",
    "则称$K \\left(\\mathbf{x}, \\mathbf{z} \\right)$为核函数，$\\phi \\left( \\mathbf{x} \\right)$为映射函数，式中$\\phi \\left( \\mathbf{x} \\right) \\cdot \\phi \\left( \\mathbf{z} \\right)$为$\\phi \\left( \\mathbf{x} \\right)$和$\\phi \\left( \\mathbf{z} \\right)$的内积。  "
   ]
  },
  {
   "cell_type": "markdown",
   "metadata": {},
   "source": [
    "#### 7. 列出常用两种核函数？"
   ]
  },
  {
   "cell_type": "markdown",
   "metadata": {
    "ExecuteTime": {
     "end_time": "2019-03-13T07:27:50.976486Z",
     "start_time": "2019-03-13T07:27:50.970919Z"
    }
   },
   "source": [
    "常用核函数：  \n",
    "1. 多项式核函数\n",
    "\\begin{align*} \\\\& K \\left( \\mathbf{x}, \\mathbf{z} \\right) = \\left( \\mathbf{x} \\cdot \\mathbf{z} + 1 \\right)^{p} \\end{align*}   \n",
    "2. 高斯核函数  \n",
    "\\begin{align*} \\\\& K \\left( \\mathbf{x}, \\mathbf{z} \\right) = \\exp \\left( - \\dfrac{\\| \\mathbf{x} - \\mathbf{z} \\|^{2}}{2 \\sigma^{2}} \\right) \\end{align*}   "
   ]
  },
  {
   "cell_type": "markdown",
   "metadata": {},
   "source": [
    "#### 8.请列出概率的加法规则和乘积规则？"
   ]
  },
  {
   "cell_type": "markdown",
   "metadata": {},
   "source": [
    "概率加和规则：\n",
    "$$p\\left(X=x_i\\right)=\\sum_{j=1}^N p\\left(X=x_i,Y=y_j\\right)$$\n",
    "$$p\\left(X\\right)=\\sum_Y p\\left(X,Y\\right)$$"
   ]
  },
  {
   "cell_type": "markdown",
   "metadata": {},
   "source": [
    "概率乘积规则：\n",
    "$$p\\left(X=x_i,Y=y_j\\right)=p\\left(Y=y_j|X=x_i\\right)p\\left(X=x_i\\right)$$\n",
    "$$p\\left(X,Y\\right)=p\\left(Y|X\\right)p\\left(X\\right)$$"
   ]
  },
  {
   "cell_type": "markdown",
   "metadata": {},
   "source": [
    "#### 9.朴素贝叶斯模型中的“朴素”如何理解？以公式进行说明。"
   ]
  },
  {
   "cell_type": "markdown",
   "metadata": {},
   "source": [
    "条件独立性假设\n",
    "\\begin{align*} \\\\& P \\left( X = \\mathbf{x} | Y = c_{k} \\right) = P \\left( X^{\\left( 1 \\right)} = x^{\\left( 1 \\right)} , \\cdots, X^{\\left( n \\right)} = x^{\\left( n \\right)} | Y = c_{k}\\right) \n",
    "\\\\ & \\quad\\quad\\quad\\quad\\quad\\quad = \\prod_{j=1}^{n} P \\left( X^{\\left( j \\right)} = x^{\\left( j \\right)} | Y = c_{k} \\right) \\end{align*}   \n",
    "即，用于分类的特征在类确定的条件下都是条件独立的。"
   ]
  },
  {
   "cell_type": "markdown",
   "metadata": {},
   "source": [
    "#### 10.朴素贝叶斯模型参数估计可以采用什么方法？"
   ]
  },
  {
   "cell_type": "markdown",
   "metadata": {},
   "source": [
    "朴素贝叶斯模型参数的极大似然估计  \n",
    "1. 先验概率$P \\left( Y = c_{k} \\right)$的极大似然估计  \n",
    "\\begin{align*} \\\\& P \\left( Y = c_{k} \\right) = \\dfrac{\\sum_{i=1}^{N} I \\left( y_{i} = c_{k} \\right)}{N} \\quad  k = 1, 2, \\cdots, K\\end{align*} \n",
    "2. 设第$j$个特征$x^{\\left( j \\right)}$可能取值的集合为$\\left\\{ a_{j1}, a_{j2}, \\cdots, a_{j S_{j}} \\right\\}$，条件概率$P \\left( X^{\\left( j \\right)} = a_{jl} | Y = c_{k} \\right)$的极大似然估计\n",
    "\\begin{align*} \\\\& P \\left( X^{\\left( j \\right)} = a_{jl} | Y = c_{k} \\right) ＝ \\dfrac{\\sum_{i=1}^{N} I \\left(x_{i}^{\\left( j \\right)}=a_{jl}, y_{i} = c_{k} \\right)}{\\sum_{i=1}^{N} I \\left( y_{i} = c_{k} \\right)}\n",
    "\\\\ & j = 1, 2, \\cdots, n;\\quad l = 1, 2, \\cdots, S_{j};\\quad k = 1, 2, \\cdots, K\\end{align*}   \n",
    "其中，$x_{i}^{\\left( j \\right)}$是第$i$个样本的第$j$个特征；$a_{jl}$是第$j$个特征可能取的第$l$个值；$I$是指示函数。"
   ]
  },
  {
   "cell_type": "code",
   "execution_count": null,
   "metadata": {},
   "outputs": [],
   "source": []
  }
 ],
 "metadata": {
  "kernelspec": {
   "display_name": "Python 3",
   "language": "python",
   "name": "python3"
  },
  "language_info": {
   "codemirror_mode": {
    "name": "ipython",
    "version": 3
   },
   "file_extension": ".py",
   "mimetype": "text/x-python",
   "name": "python",
   "nbconvert_exporter": "python",
   "pygments_lexer": "ipython3",
   "version": "3.6.9"
  },
  "toc": {
   "base_numbering": 1,
   "nav_menu": {},
   "number_sections": false,
   "sideBar": true,
   "skip_h1_title": false,
   "title_cell": "Table of Contents",
   "title_sidebar": "Contents",
   "toc_cell": false,
   "toc_position": {},
   "toc_section_display": true,
   "toc_window_display": false
  },
  "varInspector": {
   "cols": {
    "lenName": 16,
    "lenType": 16,
    "lenVar": 40
   },
   "kernels_config": {
    "python": {
     "delete_cmd_postfix": "",
     "delete_cmd_prefix": "del ",
     "library": "var_list.py",
     "varRefreshCmd": "print(var_dic_list())"
    },
    "r": {
     "delete_cmd_postfix": ") ",
     "delete_cmd_prefix": "rm(",
     "library": "var_list.r",
     "varRefreshCmd": "cat(var_dic_list()) "
    }
   },
   "types_to_exclude": [
    "module",
    "function",
    "builtin_function_or_method",
    "instance",
    "_Feature"
   ],
   "window_display": false
  }
 },
 "nbformat": 4,
 "nbformat_minor": 2
}
